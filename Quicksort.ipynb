{
 "cells": [
  {
   "cell_type": "code",
   "execution_count": null,
   "metadata": {
    "collapsed": true
   },
   "outputs": [],
   "source": [
    "from random import randrange\n",
    "\n",
    "\n",
    "def partition(lst, start, end, pivot):\n",
    "    lst[pivot], lst[end] = lst[end], lst[pivot]\n",
    "    store_index = start\n",
    "    for i in range(start, end):\n",
    "        if lst[i] < lst[end]:\n",
    "            lst[i], lst[store_index] = lst[store_index], lst[i]\n",
    "            store_index += 1\n",
    "    lst[store_index], lst[end] = lst[end], lst[store_index]\n",
    "    return store_index\n",
    "\n",
    "\n",
    "def quick_sort(lst, start, end):\n",
    "    if start >= end:\n",
    "        return lst\n",
    "    pivot = randrange(start, end + 1)\n",
    "    new_pivot = partition(lst, start, end, pivot)\n",
    "    quick_sort(lst, start, new_pivot - 1)\n",
    "    quick_sort(lst, new_pivot + 1, end)\n",
    "\n",
    "\n",
    "def sort(lst):\n",
    "    quick_sort(lst, 0, len(lst) - 1)\n",
    "    return lst\n",
    "\n",
    "print([13,19,9,5,12,8,7,4,21,2,6,11])\n",
    "print (sort([13,19,9,5,12,8,7,4,21,2,6,11]))"
   ]
  }
 ],
 "metadata": {
  "kernelspec": {
   "display_name": "Python 2",
   "language": "python",
   "name": "python2"
  },
  "language_info": {
   "codemirror_mode": {
    "name": "ipython",
    "version": 2
   },
   "file_extension": ".py",
   "mimetype": "text/x-python",
   "name": "python",
   "nbconvert_exporter": "python",
   "pygments_lexer": "ipython2",
   "version": "2.7.6"
  }
 },
 "nbformat": 4,
 "nbformat_minor": 0
}
