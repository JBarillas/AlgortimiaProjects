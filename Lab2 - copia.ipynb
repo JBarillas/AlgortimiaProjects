{
 "cells": [
  {
   "cell_type": "code",
   "execution_count": null,
   "metadata": {
    "collapsed": true
   },
   "outputs": [],
   "source": [
    "a = [3,39,61,91,57,22,75,89,9,90,63,78,28,73,20]\n",
    "contador = 0\n",
    "def mergeSort2(A, p, r):\n",
    "    import math\n",
    "    if p < r:\n",
    "        q = math.floor((p + r)/2)\n",
    "        mergeSort2(A, p, q)\n",
    "        mergeSort2(A, q+1, r)\n",
    "        merge(A, p, q, r)\n",
    "\n",
    "def mergeSort(A):\n",
    "    mergeSort2(A, 0, len(A)-1)\n",
    "    return A\n",
    "\n",
    "#Merge original\n",
    "def merge(A,p,q,r):\n",
    "    contador = 0\n",
    "    n1 = q - p + 1\n",
    "    n2 = r - q\n",
    "    L = [0]*(n1+1)\n",
    "    R = [0]*(n2+1)\n",
    "    #Copia la parte izquierda del array\n",
    "    for i in range(0, n1):\n",
    "        L[i] = A[p+i]\n",
    "    #CCopia la parte derecha del array\n",
    "    for j in range(0, n2):\n",
    "        R[j] = A[q+j+1]\n",
    "    #Alabados sean los sentinelas Jajaja\n",
    "    L[n1] = 49712004\n",
    "    R[n2] = 49712004\n",
    "    #Posición de index, para las comparaciones de los nuevos arrays\n",
    "    i = 0\n",
    "    j = 0\n",
    "    for k in range(p, r+1):\n",
    "        if L[i] <= R[j]:\n",
    "            A[k] = L[i]\n",
    "            i = i + 1\n",
    "            contador = contador + 1\n",
    "        else:\n",
    "            A[k] = R[j]\n",
    "            j = j + 1\n",
    "            contador = contador + 1\n",
    "    return A\n",
    "    print(contador)\n",
    "print ('Array original',a)\n",
    "print('Array final')\n",
    "print(\"{}\".format(mergeSort(a)))\n",
    "print('Finalizado')"
   ]
  }
 ],
 "metadata": {
  "kernelspec": {
   "display_name": "Python 2",
   "language": "python",
   "name": "python2"
  },
  "language_info": {
   "codemirror_mode": {
    "name": "ipython",
    "version": 2
   },
   "file_extension": ".py",
   "mimetype": "text/x-python",
   "name": "python",
   "nbconvert_exporter": "python",
   "pygments_lexer": "ipython2",
   "version": "2.7.6"
  }
 },
 "nbformat": 4,
 "nbformat_minor": 0
}
